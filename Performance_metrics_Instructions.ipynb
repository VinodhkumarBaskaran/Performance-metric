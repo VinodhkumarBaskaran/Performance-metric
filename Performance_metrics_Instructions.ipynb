{
 "cells": [
  {
   "cell_type": "markdown",
   "metadata": {
    "colab_type": "text",
    "id": "s0Ej_bXyQvnV"
   },
   "source": [
    "# Compute performance metrics for the given Y and Y_score without sklearn"
   ]
  },
  {
   "cell_type": "code",
   "execution_count": 10,
   "metadata": {
    "colab": {},
    "colab_type": "code",
    "id": "4CHb6NE7Qvnc"
   },
   "outputs": [],
   "source": [
    "import numpy as np\n",
    "import pandas as pd\n",
    "# other than these two you should not import any other packages"
   ]
  },
  {
   "cell_type": "code",
   "execution_count": 12,
   "metadata": {},
   "outputs": [],
   "source": [
    "def comp_precision(tp, fp):\n",
    "    return ((tp)/ float( tp + fp))*100"
   ]
  },
  {
   "cell_type": "code",
   "execution_count": 13,
   "metadata": {},
   "outputs": [],
   "source": [
    "def comp_recall(tp, fn):\n",
    "    return (tp  * 100)/ float( tp + fn)"
   ]
  },
  {
   "cell_type": "code",
   "execution_count": 114,
   "metadata": {},
   "outputs": [],
   "source": [
    "def comp_f1_score(y_true, y_pred,tp, tn, fp, fn):\n",
    "    precision = comp_precision(tp, fp)/100\n",
    "    recall = comp_recall(tp, fn)/100\n",
    "    f1_score = (2*precision*recall)/ (precision + recall)\n",
    "    return f1_score"
   ]
  },
  {
   "cell_type": "code",
   "execution_count": 25,
   "metadata": {},
   "outputs": [],
   "source": [
    "def comp_accuracy(tp, tn, fn, fp):\n",
    "    return ((tp + tn) / float( tp + tn + fn + fp))"
   ]
  },
  {
   "cell_type": "markdown",
   "metadata": {
    "colab_type": "text",
    "id": "KbsWXuDaQvnq"
   },
   "source": [
    "<pre>\n",
    "<font color='red'><b>A.</b></font> Compute performance metrics for the given data <strong>5_a.csv</strong>\n",
    "   <b>Note 1:</b> in this data you can see number of positive points >> number of negatives points\n",
    "   <b>Note 2:</b> use pandas or numpy to read the data from <b>5_a.csv</b>\n",
    "   <b>Note 3:</b> you need to derive the class labels from given score</pre> $y^{pred}= \\text{[0 if y_score < 0.5 else 1]}$\n",
    "\n",
    "<pre>\n",
    "<ol>\n",
    "<li> Compute Confusion Matrix </li>\n",
    "<li> Compute F1 Score </li>\n",
    "<li> Compute AUC Score, you need to compute different thresholds and for each threshold compute tpr,fpr and then use               numpy.trapz(tpr_array, fpr_array) <a href='https://stackoverflow.com/q/53603376/4084039'>https://stackoverflow.com/q/53603376/4084039</a>, <a href='https://stackoverflow.com/a/39678975/4084039'>https://stackoverflow.com/a/39678975/4084039</a> Note: it should be numpy.trapz(tpr_array, fpr_array) not numpy.trapz(fpr_array, tpr_array)</li>\n",
    "<li> Compute Accuracy Score </li>\n",
    "</ol>\n",
    "</pre>"
   ]
  },
  {
   "cell_type": "code",
   "execution_count": 107,
   "metadata": {
    "colab": {},
    "colab_type": "code",
    "id": "WaFLW7oBQvnt"
   },
   "outputs": [],
   "source": [
    "df1=pd.read_csv('5_a.csv')"
   ]
  },
  {
   "cell_type": "code",
   "execution_count": 108,
   "metadata": {},
   "outputs": [
    {
     "data": {
      "text/html": [
       "<div>\n",
       "<style scoped>\n",
       "    .dataframe tbody tr th:only-of-type {\n",
       "        vertical-align: middle;\n",
       "    }\n",
       "\n",
       "    .dataframe tbody tr th {\n",
       "        vertical-align: top;\n",
       "    }\n",
       "\n",
       "    .dataframe thead th {\n",
       "        text-align: right;\n",
       "    }\n",
       "</style>\n",
       "<table border=\"1\" class=\"dataframe\">\n",
       "  <thead>\n",
       "    <tr style=\"text-align: right;\">\n",
       "      <th></th>\n",
       "      <th>y</th>\n",
       "      <th>proba</th>\n",
       "      <th>y_pred</th>\n",
       "    </tr>\n",
       "  </thead>\n",
       "  <tbody>\n",
       "    <tr>\n",
       "      <th>0</th>\n",
       "      <td>1.0</td>\n",
       "      <td>0.637387</td>\n",
       "      <td>1</td>\n",
       "    </tr>\n",
       "    <tr>\n",
       "      <th>1</th>\n",
       "      <td>1.0</td>\n",
       "      <td>0.635165</td>\n",
       "      <td>1</td>\n",
       "    </tr>\n",
       "    <tr>\n",
       "      <th>2</th>\n",
       "      <td>1.0</td>\n",
       "      <td>0.766586</td>\n",
       "      <td>1</td>\n",
       "    </tr>\n",
       "    <tr>\n",
       "      <th>3</th>\n",
       "      <td>1.0</td>\n",
       "      <td>0.724564</td>\n",
       "      <td>1</td>\n",
       "    </tr>\n",
       "    <tr>\n",
       "      <th>4</th>\n",
       "      <td>1.0</td>\n",
       "      <td>0.889199</td>\n",
       "      <td>1</td>\n",
       "    </tr>\n",
       "  </tbody>\n",
       "</table>\n",
       "</div>"
      ],
      "text/plain": [
       "     y     proba  y_pred\n",
       "0  1.0  0.637387       1\n",
       "1  1.0  0.635165       1\n",
       "2  1.0  0.766586       1\n",
       "3  1.0  0.724564       1\n",
       "4  1.0  0.889199       1"
      ]
     },
     "execution_count": 108,
     "metadata": {},
     "output_type": "execute_result"
    }
   ],
   "source": [
    "df1['y_pred'] = (df1.y >= 0.5).astype('int')\n",
    "df1.head()"
   ]
  },
  {
   "cell_type": "code",
   "execution_count": 116,
   "metadata": {},
   "outputs": [
    {
     "name": "stdout",
     "output_type": "stream",
     "text": [
      "tp 10000\n",
      "tn 0\n",
      "fp 100\n",
      "fn 0\n"
     ]
    }
   ],
   "source": [
    "t=0.5\n",
    "tp = np.logical_and( df1.proba > t, df1.y==1 ).sum()\n",
    "tn = np.logical_and( df1.proba <=t, df1.y==0 ).sum()\n",
    "fp = np.logical_and( df1.proba > t, df1.y==0 ).sum()\n",
    "fn = np.logical_and( df1.proba <=t, df1.y==1 ).sum()\n",
    "\n",
    "print('tp',tp)\n",
    "print('tn',tn)\n",
    "print('fp',fp)\n",
    "print('fn',fn)\n",
    "\n",
    "#tp, tn, fp, fn"
   ]
  },
  {
   "cell_type": "code",
   "execution_count": 117,
   "metadata": {},
   "outputs": [
    {
     "name": "stdout",
     "output_type": "stream",
     "text": [
      "F1_score 0.9950248756218906\n"
     ]
    }
   ],
   "source": [
    "print('F1_score',comp_f1_score(df1.y, df1.y_pred,tp, tn, fp, fn))"
   ]
  },
  {
   "cell_type": "code",
   "execution_count": 118,
   "metadata": {},
   "outputs": [
    {
     "name": "stdout",
     "output_type": "stream",
     "text": [
      "Accuracy 0.9900990099009901\n"
     ]
    }
   ],
   "source": [
    "Accuracy=comp_accuracy(tp, tn, fn, fp)\n",
    "print('Accuracy',Accuracy)"
   ]
  },
  {
   "cell_type": "code",
   "execution_count": 156,
   "metadata": {},
   "outputs": [
    {
     "data": {
      "image/png": "[encoded data removed]",
      "text/plain": [
       "<Figure size 432x432 with 1 Axes>"
      ]
     },
     "metadata": {
      "needs_background": "light"
     },
     "output_type": "display_data"
    }
   ],
   "source": [
    "##Reference :https://notmatthancock.github.io\n",
    "thresholds = np.arange(0.0, 1.01, .01)\n",
    "ROC = np.zeros((101,2))\n",
    "\n",
    "for i in range(101):\n",
    "    t = thresholds[i]\n",
    "\n",
    "    # Classifier / label agree and disagreements for current threshold.\n",
    "    TP_t = np.logical_and( df1.proba > t, df1.y==1 ).sum()\n",
    "    TN_t = np.logical_and( df1.proba <=t, df1.y==0 ).sum()\n",
    "    FP_t = np.logical_and( df1.proba > t, df1.y==0 ).sum()\n",
    "    FN_t = np.logical_and( df1.proba <=t, df1.y==1 ).sum()\n",
    "\n",
    "    # Compute false positive rate for current threshold.\n",
    "    FPR_t = FP_t / float(FP_t + TN_t)\n",
    "    ROC[i,0] = FPR_t\n",
    "    # Compute true  positive rate for current threshold.\n",
    "    TPR_t = TP_t / float(TP_t + FN_t)\n",
    "    ROC[i,1] = TPR_t\n",
    "    \n",
    "fig = plt.figure(figsize=(6,6))\n",
    "plt.plot(ROC[:,0], ROC[:,1], lw=2)\n",
    "plt.xlim(-0.1,1.1)\n",
    "plt.ylim(-0.1,1.1)\n",
    "plt.xlabel('$FPR(t)$')\n",
    "plt.ylabel('$TPR(t)$')\n",
    "plt.grid()\n",
    "\n",
    "AUC = 0.\n",
    "for i in range(100):\n",
    "    AUC += (ROC[i,0]-ROC[i+1,0]) * (ROC[i+1,1]+ROC[i,1])\n",
    "AUC *= 0.5\n",
    "\n",
    "plt.title('ROC curve, AUC = %.4f'%AUC)\n",
    "plt.show()"
   ]
  },
  {
   "cell_type": "markdown",
   "metadata": {
    "colab_type": "text",
    "id": "V5KZem1BQvn2"
   },
   "source": [
    "<pre>\n",
    "<font color='red'><b>B.</b></font> Compute performance metrics for the given data <strong>5_b.csv</strong>\n",
    "   <b>Note 1:</b> in this data you can see number of positive points << number of negatives points\n",
    "   <b>Note 2:</b> use pandas or numpy to read the data from <b>5_b.csv</b>\n",
    "   <b>Note 3:</b> you need to derive the class labels from given score</pre> $y^{pred}= \\text{[0 if y_score < 0.5 else 1]}$\n",
    "\n",
    "<pre>\n",
    "<ol>\n",
    "<li> Compute Confusion Matrix </li>\n",
    "<li> Compute F1 Score </li>\n",
    "<li> Compute AUC Score, you need to compute different thresholds and for each threshold compute tpr,fpr and then use               numpy.trapz(tpr_array, fpr_array) <a href='https://stackoverflow.com/q/53603376/4084039'>https://stackoverflow.com/q/53603376/4084039</a>, <a href='https://stackoverflow.com/a/39678975/4084039'>https://stackoverflow.com/a/39678975/4084039</a></li>\n",
    "<li> Compute Accuracy Score </li>\n",
    "</ol>\n",
    "</pre>"
   ]
  },
  {
   "cell_type": "code",
   "execution_count": 94,
   "metadata": {},
   "outputs": [],
   "source": [
    "df2=pd.read_csv('5_b.csv')"
   ]
  },
  {
   "cell_type": "code",
   "execution_count": 124,
   "metadata": {},
   "outputs": [],
   "source": [
    "df2['y_pred'] = (df2.y >= 0.5).astype('float')\n",
    "# df2"
   ]
  },
  {
   "cell_type": "code",
   "execution_count": 125,
   "metadata": {},
   "outputs": [
    {
     "name": "stdout",
     "output_type": "stream",
     "text": [
      "tp 55\n",
      "tn 9761\n",
      "fp 239\n",
      "fn 45\n"
     ]
    }
   ],
   "source": [
    "t=0.5\n",
    "tp = np.logical_and( df2.proba > t, df2.y==1 ).sum()\n",
    "tn = np.logical_and( df2.proba <=t, df2.y==0 ).sum()\n",
    "fp = np.logical_and( df2.proba > t, df2.y==0 ).sum()\n",
    "fn = np.logical_and( df2.proba <=t, df2.y==1 ).sum()\n",
    "\n",
    "print('tp',tp)\n",
    "print('tn',tn)\n",
    "print('fp',fp)\n",
    "print('fn',fn)\n",
    "\n",
    "# tp, tn, fp, fn"
   ]
  },
  {
   "cell_type": "code",
   "execution_count": 121,
   "metadata": {},
   "outputs": [
    {
     "name": "stdout",
     "output_type": "stream",
     "text": [
      "F1_score 0.2791878172588833\n"
     ]
    }
   ],
   "source": [
    "print('F1_score',comp_f1_score(df2.y, df2.y_pred,tp, tn, fp, fn))"
   ]
  },
  {
   "cell_type": "code",
   "execution_count": 122,
   "metadata": {},
   "outputs": [
    {
     "name": "stdout",
     "output_type": "stream",
     "text": [
      "Accuracy 0.9718811881188119\n"
     ]
    }
   ],
   "source": [
    "Accuracy=comp_accuracy(tp, tn, fn, fp)\n",
    "print('Accuracy',Accuracy)"
   ]
  },
  {
   "cell_type": "code",
   "execution_count": 123,
   "metadata": {
    "colab": {},
    "colab_type": "code",
    "id": "U2sKlq0YQvn5"
   },
   "outputs": [
    {
     "data": {
      "image/png": "[encoded data removed]",
      "text/plain": [
       "<Figure size 432x432 with 1 Axes>"
      ]
     },
     "metadata": {
      "needs_background": "light"
     },
     "output_type": "display_data"
    }
   ],
   "source": [
    "#Reference :https://notmatthancock.github.io\n",
    "thresholds = np.arange(0.0, 1.01, .01)\n",
    "ROC = np.zeros((101,2))\n",
    "\n",
    "for i in range(101):\n",
    "    t = thresholds[i]\n",
    "\n",
    "    # Classifier / label agree and disagreements for current threshold.\n",
    "    TP_t = np.logical_and( df2.proba > t, df2.y==1 ).sum()\n",
    "    TN_t = np.logical_and( df2.proba <=t, df2.y==0 ).sum()\n",
    "    FP_t = np.logical_and( df2.proba > t, df2.y==0 ).sum()\n",
    "    FN_t = np.logical_and( df2.proba <=t, df2.y==1 ).sum()\n",
    "\n",
    "    # Compute false positive rate for current threshold.\n",
    "    FPR_t = FP_t / float(FP_t + TN_t)\n",
    "    ROC[i,0] = FPR_t\n",
    "    # Compute true  positive rate for current threshold.\n",
    "    TPR_t = TP_t / float(TP_t + FN_t)\n",
    "    ROC[i,1] = TPR_t\n",
    "    \n",
    "fig = plt.figure(figsize=(6,6))\n",
    "plt.plot(ROC[:,0], ROC[:,1], lw=2)\n",
    "plt.xlim(-0.1,1.1)\n",
    "plt.ylim(-0.1,1.1)\n",
    "plt.xlabel('$FPR(t)$')\n",
    "plt.ylabel('$TPR(t)$')\n",
    "plt.grid()\n",
    "\n",
    "AUC = 0.\n",
    "for i in range(100):\n",
    "    AUC += (ROC[i,0]-ROC[i+1,0]) * (ROC[i+1,1]+ROC[i,1])\n",
    "AUC *= 0.5\n",
    "\n",
    "plt.title('ROC curve, AUC = %.4f'%AUC)\n",
    "plt.show()"
   ]
  },
  {
   "cell_type": "markdown",
   "metadata": {
    "colab_type": "text",
    "id": "GiPGonTzQvoB"
   },
   "source": [
    "<font color='red'><b>C.</b></font> Compute the best threshold (similarly to ROC curve computation) of probability which gives lowest values of metric <b>A</b> for the given data <strong>5_c.csv</strong>\n",
    "<br>\n",
    "\n",
    "you will be predicting label of a data points like this: $y^{pred}= \\text{[0 if y_score < threshold  else 1]}$\n",
    "\n",
    "$ A = 500 \\times \\text{number of false negative} + 100 \\times \\text{numebr of false positive}$\n",
    "\n",
    "<pre>\n",
    "   <b>Note 1:</b> in this data you can see number of negative points > number of positive points\n",
    "   <b>Note 2:</b> use pandas or numpy to read the data from <b>5_c.csv</b>\n",
    "</pre>"
   ]
  },
  {
   "cell_type": "code",
   "execution_count": 127,
   "metadata": {
    "colab": {},
    "colab_type": "code",
    "id": "x5HIJzq1QvoE"
   },
   "outputs": [],
   "source": [
    "df3=pd.read_csv('5_c.csv')"
   ]
  },
  {
   "cell_type": "code",
   "execution_count": 136,
   "metadata": {},
   "outputs": [],
   "source": [
    "# df3"
   ]
  },
  {
   "cell_type": "code",
   "execution_count": 144,
   "metadata": {},
   "outputs": [],
   "source": [
    "thresholds = np.linspace(1,0,101)\n",
    "\n",
    "Dic = {}\n",
    "\n",
    "for i in range(101):\n",
    "    t = thresholds[i]\n",
    "\n",
    "    # Classifier / label agree and disagreements for current threshold.\n",
    "    TP_t = np.logical_and( df3.prob > t, df3.y==1 ).sum()\n",
    "    TN_t = np.logical_and( df3.prob <=t, df3.y==0 ).sum()\n",
    "    FP_t = np.logical_and( df3.prob > t, df3.y==0 ).sum()\n",
    "    FN_t = np.logical_and( df3.prob <=t, df3.y==1 ).sum()\n",
    "\n",
    "    𝐴=(500 * FN_t) + (100 * FP_t)\n",
    "    Dic[thresholds[i]] = A\n"
   ]
  },
  {
   "cell_type": "code",
   "execution_count": 146,
   "metadata": {},
   "outputs": [],
   "source": [
    "Dic"
   ]
  },
  {
   "cell_type": "code",
   "execution_count": 147,
   "metadata": {},
   "outputs": [],
   "source": [
    "Dic_sort=sorted(Dic, key=Dic.get)"
   ]
  },
  {
   "cell_type": "code",
   "execution_count": 149,
   "metadata": {},
   "outputs": [
    {
     "name": "stdout",
     "output_type": "stream",
     "text": [
      "the threshold value is  0.22999999999999998\n"
     ]
    }
   ],
   "source": [
    "print(\"the threshold value is \",Dic_sort[0])"
   ]
  },
  {
   "cell_type": "markdown",
   "metadata": {
    "colab_type": "text",
    "id": "sD4CcgjXQvoL"
   },
   "source": [
    "<pre>\n",
    "<font color='red'><b>D.</b></font> Compute performance metrics(for regression) for the given data <strong>5_d.csv</strong>\n",
    "    <b>Note 2:</b> use pandas or numpy to read the data from <b>5_d.csv</b>\n",
    "    <b>Note 1:</b> <b>5_d.csv</b> will having two columns Y and predicted_Y both are real valued features\n",
    "<ol>\n",
    "<li> Compute Mean Square Error </li>\n",
    "<li> Compute MAPE: https://www.youtube.com/watch?v=ly6ztgIkUxk</li>\n",
    "<li> Compute R^2 error: https://en.wikipedia.org/wiki/Coefficient_of_determination#Definitions </li>\n",
    "</ol>\n",
    "</pre>"
   ]
  },
  {
   "cell_type": "code",
   "execution_count": 36,
   "metadata": {},
   "outputs": [],
   "source": [
    "df4=pd.read_csv('5_d.csv')"
   ]
  },
  {
   "cell_type": "code",
   "execution_count": 37,
   "metadata": {},
   "outputs": [
    {
     "data": {
      "text/html": [
       "<div>\n",
       "<style scoped>\n",
       "    .dataframe tbody tr th:only-of-type {\n",
       "        vertical-align: middle;\n",
       "    }\n",
       "\n",
       "    .dataframe tbody tr th {\n",
       "        vertical-align: top;\n",
       "    }\n",
       "\n",
       "    .dataframe thead th {\n",
       "        text-align: right;\n",
       "    }\n",
       "</style>\n",
       "<table border=\"1\" class=\"dataframe\">\n",
       "  <thead>\n",
       "    <tr style=\"text-align: right;\">\n",
       "      <th></th>\n",
       "      <th>y</th>\n",
       "      <th>pred</th>\n",
       "    </tr>\n",
       "  </thead>\n",
       "  <tbody>\n",
       "    <tr>\n",
       "      <th>0</th>\n",
       "      <td>101.0</td>\n",
       "      <td>100.0</td>\n",
       "    </tr>\n",
       "    <tr>\n",
       "      <th>1</th>\n",
       "      <td>120.0</td>\n",
       "      <td>100.0</td>\n",
       "    </tr>\n",
       "    <tr>\n",
       "      <th>2</th>\n",
       "      <td>131.0</td>\n",
       "      <td>113.0</td>\n",
       "    </tr>\n",
       "    <tr>\n",
       "      <th>3</th>\n",
       "      <td>164.0</td>\n",
       "      <td>125.0</td>\n",
       "    </tr>\n",
       "    <tr>\n",
       "      <th>4</th>\n",
       "      <td>154.0</td>\n",
       "      <td>152.0</td>\n",
       "    </tr>\n",
       "  </tbody>\n",
       "</table>\n",
       "</div>"
      ],
      "text/plain": [
       "       y   pred\n",
       "0  101.0  100.0\n",
       "1  120.0  100.0\n",
       "2  131.0  113.0\n",
       "3  164.0  125.0\n",
       "4  154.0  152.0"
      ]
     },
     "execution_count": 37,
     "metadata": {},
     "output_type": "execute_result"
    }
   ],
   "source": [
    "df4.head(5)"
   ]
  },
  {
   "cell_type": "code",
   "execution_count": 38,
   "metadata": {},
   "outputs": [
    {
     "name": "stdout",
     "output_type": "stream",
     "text": [
      "MSE :  177.16569974554707\n"
     ]
    }
   ],
   "source": [
    "add = 0  \n",
    "n = df4.shape[0]\n",
    "for i in range (0,n):  \n",
    "    difference = df4['y'][i] - df4['pred'][i]  \n",
    "    squared_difference = difference**2  \n",
    "    add+= squared_difference  \n",
    "MSE = add/n\n",
    "print('MSE : ',MSE)"
   ]
  },
  {
   "cell_type": "code",
   "execution_count": 39,
   "metadata": {},
   "outputs": [
    {
     "data": {
      "text/plain": [
       "177.16569974554707"
      ]
     },
     "execution_count": 39,
     "metadata": {},
     "output_type": "execute_result"
    }
   ],
   "source": [
    "MSE = np.square(np.subtract(df4['y'].to_numpy(),df4['pred'].to_numpy())).mean() \n",
    "#Geeksforgeeks --> reference\n",
    "MSE"
   ]
  },
  {
   "cell_type": "code",
   "execution_count": 40,
   "metadata": {},
   "outputs": [
    {
     "name": "stdout",
     "output_type": "stream",
     "text": [
      "R-Square :  0.9563582786990937\n"
     ]
    }
   ],
   "source": [
    "# R - square\n",
    "mean_y=df4.y.mean()\n",
    "SSt=((df4.y-mean_y)**2).sum()\n",
    "SSe=((df4.y-df4.pred)**2).sum()\n",
    "R_squared=1-(SSe/SSt)\n",
    "print('R-Square : ',R_squared)\n"
   ]
  },
  {
   "cell_type": "code",
   "execution_count": 41,
   "metadata": {},
   "outputs": [
    {
     "name": "stdout",
     "output_type": "stream",
     "text": [
      "MAPE :  12.91202994009687 %\n"
     ]
    }
   ],
   "source": [
    "div=df4.y.sum()\n",
    "err=abs(df4.y-df4.pred).sum()\n",
    "\n",
    "MAPE=err/div\n",
    "print('MAPE : ',MAPE*100,'%')"
   ]
  }
 ],
 "metadata": {
  "colab": {
   "collapsed_sections": [],
   "name": "5_Performance_metrics_Instructions.ipynb",
   "provenance": [],
   "version": "0.3.2"
  },
  "kernelspec": {
   "display_name": "Python 3",
   "language": "python",
   "name": "python3"
  },
  "language_info": {
   "codemirror_mode": {
    "name": "ipython",
    "version": 3
   },
   "file_extension": ".py",
   "mimetype": "text/x-python",
   "name": "python",
   "nbconvert_exporter": "python",
   "pygments_lexer": "ipython3",
   "version": "3.7.3"
  }
 },
 "nbformat": 4,
 "nbformat_minor": 1
}
